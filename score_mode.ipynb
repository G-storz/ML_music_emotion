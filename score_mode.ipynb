{
 "cells": [
  {
   "cell_type": "markdown",
   "metadata": {},
   "source": [
    "## Score_mode predictions"
   ]
  },
  {
   "cell_type": "code",
   "execution_count": 102,
   "metadata": {},
   "outputs": [],
   "source": [
    "import numpy as np\n",
    "import pandas as pd\n",
    "from sklearn.ensemble import RandomForestClassifier\n",
    "from sklearn.metrics import mean_squared_error as MSE\n",
    "import matplotlib.pyplot as plt"
   ]
  },
  {
   "cell_type": "code",
   "execution_count": 103,
   "metadata": {},
   "outputs": [
    {
     "data": {
      "text/html": [
       "<div>\n",
       "<style scoped>\n",
       "    .dataframe tbody tr th:only-of-type {\n",
       "        vertical-align: middle;\n",
       "    }\n",
       "\n",
       "    .dataframe tbody tr th {\n",
       "        vertical-align: top;\n",
       "    }\n",
       "\n",
       "    .dataframe thead th {\n",
       "        text-align: right;\n",
       "    }\n",
       "</style>\n",
       "<table border=\"1\" class=\"dataframe\">\n",
       "  <thead>\n",
       "    <tr style=\"text-align: right;\">\n",
       "      <th></th>\n",
       "      <th>essentia_dissonance_mean</th>\n",
       "      <th>essentia_dissonance_stdev</th>\n",
       "      <th>essentia_dynamic_complexity</th>\n",
       "      <th>essentia_loudness</th>\n",
       "      <th>essentia_onset_rate</th>\n",
       "      <th>essentia_pitch_salience_mean</th>\n",
       "      <th>essentia_pitch_salience_stdev</th>\n",
       "      <th>essentia_spectral_centroid_mean</th>\n",
       "      <th>essentia_spectral_centroid_stdev</th>\n",
       "      <th>essentia_spectral_complexity_mean</th>\n",
       "      <th>...</th>\n",
       "      <th>midlevel_features_melody</th>\n",
       "      <th>midlevel_features_articulation</th>\n",
       "      <th>midlevel_features_rhythm_complexity</th>\n",
       "      <th>midlevel_features_rhythm_stability</th>\n",
       "      <th>midlevel_features_dissonance</th>\n",
       "      <th>midlevel_features_tonal_stability</th>\n",
       "      <th>score_key_strength</th>\n",
       "      <th>mean_A</th>\n",
       "      <th>mean_V</th>\n",
       "      <th>quadrant</th>\n",
       "    </tr>\n",
       "  </thead>\n",
       "  <tbody>\n",
       "    <tr>\n",
       "      <th>0</th>\n",
       "      <td>0.206445</td>\n",
       "      <td>0.131383</td>\n",
       "      <td>13.998791</td>\n",
       "      <td>58.329521</td>\n",
       "      <td>3.1</td>\n",
       "      <td>0.539736</td>\n",
       "      <td>0.193987</td>\n",
       "      <td>3367.790527</td>\n",
       "      <td>3684.124268</td>\n",
       "      <td>2.986095</td>\n",
       "      <td>...</td>\n",
       "      <td>0.065397</td>\n",
       "      <td>-0.029380</td>\n",
       "      <td>-0.303987</td>\n",
       "      <td>-0.053306</td>\n",
       "      <td>-0.325228</td>\n",
       "      <td>0.347745</td>\n",
       "      <td>0.795727</td>\n",
       "      <td>50.689655</td>\n",
       "      <td>2.724138</td>\n",
       "      <td>1</td>\n",
       "    </tr>\n",
       "    <tr>\n",
       "      <th>1</th>\n",
       "      <td>0.145753</td>\n",
       "      <td>0.057971</td>\n",
       "      <td>3.533264</td>\n",
       "      <td>75.166183</td>\n",
       "      <td>4.2</td>\n",
       "      <td>0.476832</td>\n",
       "      <td>0.123564</td>\n",
       "      <td>1395.528809</td>\n",
       "      <td>401.987610</td>\n",
       "      <td>4.181923</td>\n",
       "      <td>...</td>\n",
       "      <td>0.353040</td>\n",
       "      <td>-0.073957</td>\n",
       "      <td>-0.381182</td>\n",
       "      <td>0.120750</td>\n",
       "      <td>-0.479266</td>\n",
       "      <td>0.451572</td>\n",
       "      <td>0.844387</td>\n",
       "      <td>50.689655</td>\n",
       "      <td>2.724138</td>\n",
       "      <td>1</td>\n",
       "    </tr>\n",
       "    <tr>\n",
       "      <th>2</th>\n",
       "      <td>0.149111</td>\n",
       "      <td>0.059011</td>\n",
       "      <td>3.337368</td>\n",
       "      <td>82.753929</td>\n",
       "      <td>4.3</td>\n",
       "      <td>0.457741</td>\n",
       "      <td>0.132359</td>\n",
       "      <td>1318.759644</td>\n",
       "      <td>289.306152</td>\n",
       "      <td>4.303592</td>\n",
       "      <td>...</td>\n",
       "      <td>0.201885</td>\n",
       "      <td>0.016944</td>\n",
       "      <td>-0.337422</td>\n",
       "      <td>0.103853</td>\n",
       "      <td>-0.388214</td>\n",
       "      <td>0.430684</td>\n",
       "      <td>0.758119</td>\n",
       "      <td>50.689655</td>\n",
       "      <td>2.724138</td>\n",
       "      <td>1</td>\n",
       "    </tr>\n",
       "    <tr>\n",
       "      <th>3</th>\n",
       "      <td>0.163914</td>\n",
       "      <td>0.057474</td>\n",
       "      <td>3.078172</td>\n",
       "      <td>79.024742</td>\n",
       "      <td>4.1</td>\n",
       "      <td>0.504427</td>\n",
       "      <td>0.121134</td>\n",
       "      <td>1258.258423</td>\n",
       "      <td>262.561310</td>\n",
       "      <td>5.271147</td>\n",
       "      <td>...</td>\n",
       "      <td>0.181998</td>\n",
       "      <td>-0.019165</td>\n",
       "      <td>-0.314282</td>\n",
       "      <td>0.118872</td>\n",
       "      <td>-0.335902</td>\n",
       "      <td>0.314371</td>\n",
       "      <td>0.747180</td>\n",
       "      <td>50.689655</td>\n",
       "      <td>2.724138</td>\n",
       "      <td>1</td>\n",
       "    </tr>\n",
       "    <tr>\n",
       "      <th>4</th>\n",
       "      <td>0.157382</td>\n",
       "      <td>0.054116</td>\n",
       "      <td>2.682208</td>\n",
       "      <td>59.633064</td>\n",
       "      <td>3.9</td>\n",
       "      <td>0.503377</td>\n",
       "      <td>0.121658</td>\n",
       "      <td>1244.375122</td>\n",
       "      <td>260.756195</td>\n",
       "      <td>4.122828</td>\n",
       "      <td>...</td>\n",
       "      <td>0.256362</td>\n",
       "      <td>-0.151648</td>\n",
       "      <td>-0.302913</td>\n",
       "      <td>-0.002940</td>\n",
       "      <td>-0.395495</td>\n",
       "      <td>0.368037</td>\n",
       "      <td>0.710480</td>\n",
       "      <td>50.689655</td>\n",
       "      <td>2.724138</td>\n",
       "      <td>1</td>\n",
       "    </tr>\n",
       "    <tr>\n",
       "      <th>...</th>\n",
       "      <td>...</td>\n",
       "      <td>...</td>\n",
       "      <td>...</td>\n",
       "      <td>...</td>\n",
       "      <td>...</td>\n",
       "      <td>...</td>\n",
       "      <td>...</td>\n",
       "      <td>...</td>\n",
       "      <td>...</td>\n",
       "      <td>...</td>\n",
       "      <td>...</td>\n",
       "      <td>...</td>\n",
       "      <td>...</td>\n",
       "      <td>...</td>\n",
       "      <td>...</td>\n",
       "      <td>...</td>\n",
       "      <td>...</td>\n",
       "      <td>...</td>\n",
       "      <td>...</td>\n",
       "      <td>...</td>\n",
       "      <td>...</td>\n",
       "    </tr>\n",
       "    <tr>\n",
       "      <th>2602</th>\n",
       "      <td>0.106072</td>\n",
       "      <td>0.048556</td>\n",
       "      <td>4.600393</td>\n",
       "      <td>71.847145</td>\n",
       "      <td>1.7</td>\n",
       "      <td>0.541098</td>\n",
       "      <td>0.146353</td>\n",
       "      <td>3761.501709</td>\n",
       "      <td>1075.834717</td>\n",
       "      <td>3.235226</td>\n",
       "      <td>...</td>\n",
       "      <td>0.357967</td>\n",
       "      <td>-0.189399</td>\n",
       "      <td>-0.294453</td>\n",
       "      <td>-0.048271</td>\n",
       "      <td>-0.518002</td>\n",
       "      <td>0.364257</td>\n",
       "      <td>0.741726</td>\n",
       "      <td>20.344828</td>\n",
       "      <td>-0.896552</td>\n",
       "      <td>3</td>\n",
       "    </tr>\n",
       "    <tr>\n",
       "      <th>2603</th>\n",
       "      <td>0.097130</td>\n",
       "      <td>0.045978</td>\n",
       "      <td>4.032829</td>\n",
       "      <td>81.727577</td>\n",
       "      <td>2.4</td>\n",
       "      <td>0.506956</td>\n",
       "      <td>0.129266</td>\n",
       "      <td>3283.780029</td>\n",
       "      <td>956.233765</td>\n",
       "      <td>3.852839</td>\n",
       "      <td>...</td>\n",
       "      <td>0.223821</td>\n",
       "      <td>-0.081319</td>\n",
       "      <td>-0.211686</td>\n",
       "      <td>-0.043546</td>\n",
       "      <td>-0.427122</td>\n",
       "      <td>0.318351</td>\n",
       "      <td>0.729813</td>\n",
       "      <td>20.344828</td>\n",
       "      <td>-0.896552</td>\n",
       "      <td>3</td>\n",
       "    </tr>\n",
       "    <tr>\n",
       "      <th>2604</th>\n",
       "      <td>0.142735</td>\n",
       "      <td>0.059378</td>\n",
       "      <td>4.094213</td>\n",
       "      <td>27.877666</td>\n",
       "      <td>0.9</td>\n",
       "      <td>0.553664</td>\n",
       "      <td>0.155784</td>\n",
       "      <td>5419.066406</td>\n",
       "      <td>1376.261963</td>\n",
       "      <td>2.230591</td>\n",
       "      <td>...</td>\n",
       "      <td>0.190541</td>\n",
       "      <td>-0.334320</td>\n",
       "      <td>-0.268202</td>\n",
       "      <td>-0.223166</td>\n",
       "      <td>-0.392003</td>\n",
       "      <td>0.249261</td>\n",
       "      <td>0.752923</td>\n",
       "      <td>20.344828</td>\n",
       "      <td>-0.896552</td>\n",
       "      <td>3</td>\n",
       "    </tr>\n",
       "    <tr>\n",
       "      <th>2605</th>\n",
       "      <td>0.134667</td>\n",
       "      <td>0.057092</td>\n",
       "      <td>5.675084</td>\n",
       "      <td>57.549480</td>\n",
       "      <td>1.4</td>\n",
       "      <td>0.524951</td>\n",
       "      <td>0.150398</td>\n",
       "      <td>4481.284668</td>\n",
       "      <td>1550.097534</td>\n",
       "      <td>2.498262</td>\n",
       "      <td>...</td>\n",
       "      <td>0.292983</td>\n",
       "      <td>-0.208947</td>\n",
       "      <td>-0.286899</td>\n",
       "      <td>-0.110805</td>\n",
       "      <td>-0.460086</td>\n",
       "      <td>0.320651</td>\n",
       "      <td>0.744074</td>\n",
       "      <td>20.344828</td>\n",
       "      <td>-0.896552</td>\n",
       "      <td>3</td>\n",
       "    </tr>\n",
       "    <tr>\n",
       "      <th>2606</th>\n",
       "      <td>0.129903</td>\n",
       "      <td>0.060257</td>\n",
       "      <td>6.391178</td>\n",
       "      <td>51.101803</td>\n",
       "      <td>1.6</td>\n",
       "      <td>0.478957</td>\n",
       "      <td>0.139338</td>\n",
       "      <td>4938.335938</td>\n",
       "      <td>1742.008423</td>\n",
       "      <td>2.609502</td>\n",
       "      <td>...</td>\n",
       "      <td>0.177382</td>\n",
       "      <td>-0.283964</td>\n",
       "      <td>-0.264824</td>\n",
       "      <td>-0.215631</td>\n",
       "      <td>-0.341757</td>\n",
       "      <td>0.235307</td>\n",
       "      <td>0.634216</td>\n",
       "      <td>20.344828</td>\n",
       "      <td>-0.896552</td>\n",
       "      <td>3</td>\n",
       "    </tr>\n",
       "  </tbody>\n",
       "</table>\n",
       "<p>2607 rows × 90 columns</p>\n",
       "</div>"
      ],
      "text/plain": [
       "      essentia_dissonance_mean  essentia_dissonance_stdev  \\\n",
       "0                     0.206445                   0.131383   \n",
       "1                     0.145753                   0.057971   \n",
       "2                     0.149111                   0.059011   \n",
       "3                     0.163914                   0.057474   \n",
       "4                     0.157382                   0.054116   \n",
       "...                        ...                        ...   \n",
       "2602                  0.106072                   0.048556   \n",
       "2603                  0.097130                   0.045978   \n",
       "2604                  0.142735                   0.059378   \n",
       "2605                  0.134667                   0.057092   \n",
       "2606                  0.129903                   0.060257   \n",
       "\n",
       "      essentia_dynamic_complexity  essentia_loudness  essentia_onset_rate  \\\n",
       "0                       13.998791          58.329521                  3.1   \n",
       "1                        3.533264          75.166183                  4.2   \n",
       "2                        3.337368          82.753929                  4.3   \n",
       "3                        3.078172          79.024742                  4.1   \n",
       "4                        2.682208          59.633064                  3.9   \n",
       "...                           ...                ...                  ...   \n",
       "2602                     4.600393          71.847145                  1.7   \n",
       "2603                     4.032829          81.727577                  2.4   \n",
       "2604                     4.094213          27.877666                  0.9   \n",
       "2605                     5.675084          57.549480                  1.4   \n",
       "2606                     6.391178          51.101803                  1.6   \n",
       "\n",
       "      essentia_pitch_salience_mean  essentia_pitch_salience_stdev  \\\n",
       "0                         0.539736                       0.193987   \n",
       "1                         0.476832                       0.123564   \n",
       "2                         0.457741                       0.132359   \n",
       "3                         0.504427                       0.121134   \n",
       "4                         0.503377                       0.121658   \n",
       "...                            ...                            ...   \n",
       "2602                      0.541098                       0.146353   \n",
       "2603                      0.506956                       0.129266   \n",
       "2604                      0.553664                       0.155784   \n",
       "2605                      0.524951                       0.150398   \n",
       "2606                      0.478957                       0.139338   \n",
       "\n",
       "      essentia_spectral_centroid_mean  essentia_spectral_centroid_stdev  \\\n",
       "0                         3367.790527                       3684.124268   \n",
       "1                         1395.528809                        401.987610   \n",
       "2                         1318.759644                        289.306152   \n",
       "3                         1258.258423                        262.561310   \n",
       "4                         1244.375122                        260.756195   \n",
       "...                               ...                               ...   \n",
       "2602                      3761.501709                       1075.834717   \n",
       "2603                      3283.780029                        956.233765   \n",
       "2604                      5419.066406                       1376.261963   \n",
       "2605                      4481.284668                       1550.097534   \n",
       "2606                      4938.335938                       1742.008423   \n",
       "\n",
       "      essentia_spectral_complexity_mean  ...  midlevel_features_melody  \\\n",
       "0                              2.986095  ...                  0.065397   \n",
       "1                              4.181923  ...                  0.353040   \n",
       "2                              4.303592  ...                  0.201885   \n",
       "3                              5.271147  ...                  0.181998   \n",
       "4                              4.122828  ...                  0.256362   \n",
       "...                                 ...  ...                       ...   \n",
       "2602                           3.235226  ...                  0.357967   \n",
       "2603                           3.852839  ...                  0.223821   \n",
       "2604                           2.230591  ...                  0.190541   \n",
       "2605                           2.498262  ...                  0.292983   \n",
       "2606                           2.609502  ...                  0.177382   \n",
       "\n",
       "      midlevel_features_articulation  midlevel_features_rhythm_complexity  \\\n",
       "0                          -0.029380                            -0.303987   \n",
       "1                          -0.073957                            -0.381182   \n",
       "2                           0.016944                            -0.337422   \n",
       "3                          -0.019165                            -0.314282   \n",
       "4                          -0.151648                            -0.302913   \n",
       "...                              ...                                  ...   \n",
       "2602                       -0.189399                            -0.294453   \n",
       "2603                       -0.081319                            -0.211686   \n",
       "2604                       -0.334320                            -0.268202   \n",
       "2605                       -0.208947                            -0.286899   \n",
       "2606                       -0.283964                            -0.264824   \n",
       "\n",
       "      midlevel_features_rhythm_stability  midlevel_features_dissonance  \\\n",
       "0                              -0.053306                     -0.325228   \n",
       "1                               0.120750                     -0.479266   \n",
       "2                               0.103853                     -0.388214   \n",
       "3                               0.118872                     -0.335902   \n",
       "4                              -0.002940                     -0.395495   \n",
       "...                                  ...                           ...   \n",
       "2602                           -0.048271                     -0.518002   \n",
       "2603                           -0.043546                     -0.427122   \n",
       "2604                           -0.223166                     -0.392003   \n",
       "2605                           -0.110805                     -0.460086   \n",
       "2606                           -0.215631                     -0.341757   \n",
       "\n",
       "      midlevel_features_tonal_stability  score_key_strength     mean_A  \\\n",
       "0                              0.347745            0.795727  50.689655   \n",
       "1                              0.451572            0.844387  50.689655   \n",
       "2                              0.430684            0.758119  50.689655   \n",
       "3                              0.314371            0.747180  50.689655   \n",
       "4                              0.368037            0.710480  50.689655   \n",
       "...                                 ...                 ...        ...   \n",
       "2602                           0.364257            0.741726  20.344828   \n",
       "2603                           0.318351            0.729813  20.344828   \n",
       "2604                           0.249261            0.752923  20.344828   \n",
       "2605                           0.320651            0.744074  20.344828   \n",
       "2606                           0.235307            0.634216  20.344828   \n",
       "\n",
       "        mean_V  quadrant  \n",
       "0     2.724138         1  \n",
       "1     2.724138         1  \n",
       "2     2.724138         1  \n",
       "3     2.724138         1  \n",
       "4     2.724138         1  \n",
       "...        ...       ...  \n",
       "2602 -0.896552         3  \n",
       "2603 -0.896552         3  \n",
       "2604 -0.896552         3  \n",
       "2605 -0.896552         3  \n",
       "2606 -0.896552         3  \n",
       "\n",
       "[2607 rows x 90 columns]"
      ]
     },
     "execution_count": 103,
     "metadata": {},
     "output_type": "execute_result"
    }
   ],
   "source": [
    "#loading the data\n",
    "dataframe = pd.read_csv('phase_3_TRAIN_7d499bff69ca69b6_6372c3e_MLPC2021_generic-1.csv')\n",
    "target = dataframe['score_mode']\n",
    "minor = dataframe['midlevel_features_minorness']\n",
    "testframe = dataframe[['librosa_bpm', 'essentia_spectral_centroid_mean', 'essentia_spectral_centroid_stdev', 'librosa_spectral_bandwidth_mean']].copy()\n",
    "\n",
    "dataframe = dataframe.drop(['id', 'score_mode', 'midlevel_features_minorness'], axis=1)\n",
    "\n",
    "#split into train and test\n",
    "split = int(len(dataframe)*0.8)\n",
    "train_x = dataframe[:split]\n",
    "train_y = target[:split]\n",
    "test_x = dataframe[split:]\n",
    "test_y = target[split:]\n",
    "\n",
    "train_minor = minor[:split]\n",
    "test_minor = minor[split:]\n",
    "dataframe"
   ]
  },
  {
   "cell_type": "code",
   "execution_count": 104,
   "metadata": {},
   "outputs": [
    {
     "name": "stdout",
     "output_type": "stream",
     "text": [
      "Accuracy:  0.4706559263521289\n"
     ]
    }
   ],
   "source": [
    "#link why I tried this: https://stackoverflow.com/questions/57082826/how-can-a-chromagram-file-produced-by-librosa-be-interpreted-as-a-set-of-musical\n",
    "\n",
    "chroma = []\n",
    "for i in dataframe.columns:\n",
    "    if 'chroma_mean' in i:\n",
    "        chroma.append(i)\n",
    "\n",
    "chroma_frame = dataframe[chroma].copy()\n",
    "chroma_frame['max'] = chroma_frame.idxmax(axis=1)\n",
    "chroma_frame['max_num'] = chroma_frame['max'].apply(lambda x: x.split('_')[-1])\n",
    "chroma_frame['minor_third'] = chroma_frame['max_num'].apply(lambda x: (int(x)+3)%12).astype(str)\n",
    "chroma_frame['major_third'] = chroma_frame['max_num'].apply(lambda x: (int(x)+4)%12).astype(str)\n",
    "chroma_frame['lib'] = 'librosa_chroma_mean_'\n",
    "chroma_frame['minor_third'] = chroma_frame['lib'] + chroma_frame['minor_third']\n",
    "chroma_frame['major_third'] = chroma_frame['lib'] + chroma_frame['major_third']\n",
    "\n",
    "min_maj = []\n",
    "for ind, row in chroma_frame.iterrows():\n",
    "    min_col = row['minor_third']\n",
    "    maj_col = row['major_third']\n",
    "    if float(row[min_col]) < float(row[maj_col]):\n",
    "        min_maj.append(1)\n",
    "    else:\n",
    "        min_maj.append(0)\n",
    "ac = accuracy_(min_maj, target)"
   ]
  },
  {
   "cell_type": "code",
   "execution_count": 105,
   "metadata": {},
   "outputs": [],
   "source": [
    "#check the correlation to score_mode\n",
    "from scipy.stats import pearsonr\n",
    "for col in dataframe.columns:\n",
    "    corr, _ = pearsonr(dataframe[col], target)\n",
    "    if corr < -0.1:\n",
    "        print(col, corr)\n",
    "    elif corr > 0.1:\n",
    "        print(col, corr)\n",
    "#not even one col is to some extend correlated to score_mode"
   ]
  },
  {
   "cell_type": "markdown",
   "metadata": {},
   "source": [
    "### Random Forest "
   ]
  },
  {
   "cell_type": "code",
   "execution_count": 106,
   "metadata": {},
   "outputs": [
    {
     "name": "stdout",
     "output_type": "stream",
     "text": [
      "Accuracy:  0.5498084291187739\n"
     ]
    }
   ],
   "source": [
    "#fit the data and make predictions\n",
    "rfc = RandomForestClassifier(n_jobs = -1)\n",
    "rfc.fit(train_x, train_y)\n",
    "predictions = rfc.predict(test_x)\n",
    "feature_importance = rfc.feature_importances_\n",
    "\n",
    "#accuracy function\n",
    "def accuracy_(predictions, target):\n",
    "    correct = 0\n",
    "    for pred, act in zip(predictions, target):\n",
    "        if pred == act:\n",
    "            correct += 1\n",
    "    accuracy = correct / len(predictions)\n",
    "    print('Accuracy: ', accuracy)\n",
    "    return accuracy\n",
    "\n",
    "acc = accuracy_(predictions, test_y)"
   ]
  },
  {
   "cell_type": "code",
   "execution_count": 107,
   "metadata": {},
   "outputs": [
    {
     "data": {
      "text/plain": [
       "\"unimportant_features = []\\nfor i in train_x.columns:\\n    if not ('librosa' in i or 'essentia' in i):\\n        unimportant_features.append(i)\\n\\n#drop unimportant cols\\ntrain_x = train_x.drop(unimportant_features, axis=1)\\ntest_x = test_x.drop(unimportant_features, axis=1)\""
      ]
     },
     "execution_count": 107,
     "metadata": {},
     "output_type": "execute_result"
    }
   ],
   "source": [
    "feature_index_importance = []\n",
    "for index, importance in enumerate(feature_importance):\n",
    "    feature_index_importance.append([index, importance])\n",
    "\n",
    "feature_index_importance.sort(key=lambda x: x[1])\n",
    "\n",
    "#take only the features which are responsible for the most important 75%\n",
    "'''header = train_x.columns\n",
    "unimportant_features = []\n",
    "current_pro = 0\n",
    "for index, importance in feature_index_importance:\n",
    "    current_pro += importance\n",
    "    unimportant_features.append(header[index])\n",
    "    if current_pro > 0.75:\n",
    "        break'''\n",
    "\n",
    "#only essentia and librosa features\n",
    "'''unimportant_features = []\n",
    "for i in train_x.columns:\n",
    "    if not ('librosa' in i or 'essentia' in i):\n",
    "        unimportant_features.append(i)\n",
    "\n",
    "#drop unimportant cols\n",
    "train_x = train_x.drop(unimportant_features, axis=1)\n",
    "test_x = test_x.drop(unimportant_features, axis=1)'''"
   ]
  },
  {
   "cell_type": "code",
   "execution_count": 108,
   "metadata": {},
   "outputs": [
    {
     "name": "stdout",
     "output_type": "stream",
     "text": [
      "Accuracy:  0.5402298850574713\n"
     ]
    }
   ],
   "source": [
    "rfc.fit(train_x, train_y)\n",
    "predictions = rfc.predict(test_x)\n",
    "acc = accuracy_(predictions, test_y)"
   ]
  },
  {
   "cell_type": "code",
   "execution_count": 109,
   "metadata": {},
   "outputs": [],
   "source": [
    "from sklearn.model_selection import GridSearchCV\n",
    "# Create the parameter grid based on the results of random search \n",
    "\n",
    "param_grid = {\n",
    "    'random_state': [42],\n",
    "    'max_depth': [40, 60, 80],\n",
    "    'max_features': ['auto'],\n",
    "    'min_samples_leaf': [2, 3],\n",
    "    'min_samples_split': [4, 8],\n",
    "    'n_estimators': [40, 50, 60]\n",
    "}\n",
    "\n",
    "grid_search = GridSearchCV(estimator = rfc, param_grid = param_grid, \n",
    "                          cv = 3, n_jobs = -1, verbose = 2)\n",
    "#grid_search.fit(train_x, train_y)\n",
    "#grid_search.best_params_"
   ]
  },
  {
   "cell_type": "code",
   "execution_count": 110,
   "metadata": {},
   "outputs": [],
   "source": [
    "best_rfc = RandomForestClassifier(n_estimators=60, max_depth=40, max_features='auto', random_state=42, min_samples_leaf=3, min_samples_split=4)"
   ]
  },
  {
   "cell_type": "code",
   "execution_count": 111,
   "metadata": {},
   "outputs": [
    {
     "name": "stdout",
     "output_type": "stream",
     "text": [
      "Accuracy:  0.5402298850574713\n"
     ]
    }
   ],
   "source": [
    "best_rfc.fit(train_x, train_y)\n",
    "predictions = rfc.predict(test_x)\n",
    "acc = accuracy_(predictions, test_y)"
   ]
  },
  {
   "cell_type": "code",
   "execution_count": 112,
   "metadata": {},
   "outputs": [
    {
     "name": "stdout",
     "output_type": "stream",
     "text": [
      "Accuracy:  0.5440613026819924\n"
     ]
    }
   ],
   "source": [
    "rf_opt = RandomForestClassifier(n_estimators=28,\n",
    "                                criterion='gini',\n",
    "                                max_features=4,\n",
    "                                max_depth=4,\n",
    "                                min_samples_split=100,\n",
    "                                min_samples_leaf=10,\n",
    "                                bootstrap=False,\n",
    "                                random_state=1)\n",
    "rf_opt.fit(train_x, train_y)\n",
    "pred = rf_opt.predict(test_x)\n",
    "accuracy = accuracy_(pred, test_y)"
   ]
  },
  {
   "cell_type": "markdown",
   "metadata": {},
   "source": [
    "### Naive Bayes "
   ]
  },
  {
   "cell_type": "code",
   "execution_count": 113,
   "metadata": {},
   "outputs": [],
   "source": [
    "#loading the data\n",
    "dataframe = pd.read_csv('phase_3_TRAIN_7d499bff69ca69b6_6372c3e_MLPC2021_generic-1.csv')\n",
    "target = dataframe['score_mode']\n",
    "dataframe = dataframe.drop(['id', 'score_mode'], axis=1)\n",
    "\n",
    "#split into train and test\n",
    "split = int(len(dataframe)*0.8)\n",
    "train_x = dataframe[:split]\n",
    "train_y = target[:split]\n",
    "test_x = dataframe[split:]\n",
    "test_y = target[split:]"
   ]
  },
  {
   "cell_type": "markdown",
   "metadata": {},
   "source": [
    "#### GaussianNB"
   ]
  },
  {
   "cell_type": "code",
   "execution_count": 114,
   "metadata": {},
   "outputs": [
    {
     "name": "stdout",
     "output_type": "stream",
     "text": [
      "Accuracy:  0.49808429118773945\n"
     ]
    }
   ],
   "source": [
    "#import classifier, fit and predict\n",
    "from sklearn.naive_bayes import GaussianNB\n",
    "clf = GaussianNB()\n",
    "clf.fit(train_x, train_y)\n",
    "predictions = clf.predict(test_x)\n",
    "acc = accuracy_(predictions, test_y)"
   ]
  },
  {
   "cell_type": "markdown",
   "metadata": {},
   "source": [
    "#### BernoulliNB"
   ]
  },
  {
   "cell_type": "code",
   "execution_count": 115,
   "metadata": {},
   "outputs": [
    {
     "name": "stdout",
     "output_type": "stream",
     "text": [
      "Accuracy:  0.5287356321839081\n"
     ]
    }
   ],
   "source": [
    "#import classifier, fit and predict\n",
    "from sklearn.naive_bayes import BernoulliNB\n",
    "clf = BernoulliNB()\n",
    "clf.fit(train_x, train_y)\n",
    "predictions = clf.predict(test_x)\n",
    "accuracy = accuracy_(predictions, test_y)"
   ]
  },
  {
   "cell_type": "markdown",
   "metadata": {},
   "source": [
    "#### PCA"
   ]
  },
  {
   "cell_type": "code",
   "execution_count": 116,
   "metadata": {},
   "outputs": [
    {
     "data": {
      "image/png": "[encoded data removed]",
      "text/plain": [
       "<Figure size 432x288 with 1 Axes>"
      ]
     },
     "metadata": {
      "needs_background": "light"
     },
     "output_type": "display_data"
    }
   ],
   "source": [
    "from sklearn.decomposition import PCA\n",
    "pca = PCA()\n",
    "t = pca.fit_transform(train_x)\n",
    "\n",
    "plt.scatter(t[:,:1], t[:,1:2], c= train_y)\n",
    "plt.show()"
   ]
  },
  {
   "cell_type": "markdown",
   "metadata": {},
   "source": [
    "#### FastICA"
   ]
  },
  {
   "cell_type": "code",
   "execution_count": 117,
   "metadata": {},
   "outputs": [
    {
     "name": "stderr",
     "output_type": "stream",
     "text": [
      "c:\\users\\georg\\appdata\\local\\programs\\python\\python37\\lib\\site-packages\\sklearn\\decomposition\\_fastica.py:120: ConvergenceWarning: FastICA did not converge. Consider increasing tolerance or the maximum number of iterations.\n",
      "  ConvergenceWarning)\n"
     ]
    },
    {
     "data": {
      "image/png": "[encoded data removed]",
      "text/plain": [
       "<Figure size 432x288 with 1 Axes>"
      ]
     },
     "metadata": {
      "needs_background": "light"
     },
     "output_type": "display_data"
    }
   ],
   "source": [
    "from sklearn.decomposition import FastICA\n",
    "\n",
    "ica = FastICA()\n",
    "t = ica.fit_transform(train_x)\n",
    "\n",
    "plt.scatter(t[:,:1], t[:,1:2], c= train_y)\n",
    "plt.show()"
   ]
  },
  {
   "cell_type": "code",
   "execution_count": 118,
   "metadata": {},
   "outputs": [
    {
     "name": "stdout",
     "output_type": "stream",
     "text": [
      "Accuracy:  0.5134099616858238\n"
     ]
    }
   ],
   "source": [
    "chroma = []\n",
    "for i in dataframe.columns:\n",
    "    if 'chroma' in i:\n",
    "        chroma.append(i)\n",
    "chroma_frame = dataframe[chroma].copy()\n",
    "train_ch = chroma_frame[:split]\n",
    "test_ch = chroma_frame[split:]\n",
    "rfch = RandomForestClassifier()\n",
    "rfch.fit(train_ch, train_y)\n",
    "pred_ch = rfch.predict(test_ch)\n",
    "\n",
    "accuracy=accuracy_(pred_ch, test_y)"
   ]
  },
  {
   "cell_type": "markdown",
   "metadata": {},
   "source": [
    "#### SVM"
   ]
  },
  {
   "cell_type": "code",
   "execution_count": 119,
   "metadata": {},
   "outputs": [
    {
     "name": "stdout",
     "output_type": "stream",
     "text": [
      "poly\n",
      "Accuracy:  0.4386973180076628\n",
      "rbf\n",
      "Accuracy:  0.4559386973180077\n",
      "sigmoid\n",
      "Accuracy:  0.4578544061302682\n"
     ]
    }
   ],
   "source": [
    "from sklearn.svm import SVC\n",
    "for i in ['poly', 'rbf', 'sigmoid']:\n",
    "    print(i)\n",
    "    clf = SVC(kernel=i)\n",
    "    clf.fit(train_x, train_y)\n",
    "    pred = clf.predict(test_x)\n",
    "    accuracy=accuracy_(pred, test_y)"
   ]
  },
  {
   "cell_type": "code",
   "execution_count": 120,
   "metadata": {},
   "outputs": [
    {
     "data": {
      "text/plain": [
       "(228, 245, 151, 123, 724, 656, 224, 256)"
      ]
     },
     "execution_count": 120,
     "metadata": {},
     "output_type": "execute_result"
    }
   ],
   "source": [
    "# Distribution of major minor labels in the 4 quadrants\n",
    "q1_ma = 0\n",
    "q1_mi = 0\n",
    "q2_ma = 0\n",
    "q2_mi = 0\n",
    "q3_ma = 0\n",
    "q3_mi = 0\n",
    "q4_ma = 0\n",
    "q4_mi = 0\n",
    "\n",
    "for ind, row in dataframe.iterrows():\n",
    "    if row['quadrant'] == 1:\n",
    "        if target[ind] == 1:\n",
    "            q1_ma += 1\n",
    "        else:\n",
    "            q1_mi += 1\n",
    "    elif row['quadrant'] == 2:\n",
    "        if target[ind] == 1:\n",
    "            q2_ma += 1\n",
    "        else:\n",
    "            q2_mi += 1\n",
    "    elif row['quadrant'] == 3:\n",
    "        if target[ind] == 1:\n",
    "            q3_ma += 1\n",
    "        else:\n",
    "            q3_mi += 1\n",
    "    elif row['quadrant'] == 4:\n",
    "        if target[ind] == 1:\n",
    "            q4_ma += 1\n",
    "        else:\n",
    "            q4_mi += 1\n",
    "            \n",
    "q1_ma, q1_mi, q2_ma, q2_mi, q3_ma, q3_mi, q4_ma, q4_mi"
   ]
  },
  {
   "cell_type": "code",
   "execution_count": 24,
   "metadata": {},
   "outputs": [
    {
     "data": {
      "text/plain": [
       "<matplotlib.collections.PathCollection at 0x1af2a422408>"
      ]
     },
     "execution_count": 24,
     "metadata": {},
     "output_type": "execute_result"
    },
    {
     "data": {
      "image/png": "[encoded data removed]",
      "text/plain": [
       "<Figure size 432x288 with 1 Axes>"
      ]
     },
     "metadata": {
      "needs_background": "light"
     },
     "output_type": "display_data"
    }
   ],
   "source": [
    "plt.scatter(dataframe['mean_A'], dataframe['mean_V'], c= target)"
   ]
  },
  {
   "cell_type": "code",
   "execution_count": null,
   "metadata": {},
   "outputs": [],
   "source": []
  }
 ],
 "metadata": {
  "kernelspec": {
   "display_name": "Python 3",
   "language": "python",
   "name": "python3"
  },
  "language_info": {
   "codemirror_mode": {
    "name": "ipython",
    "version": 3
   },
   "file_extension": ".py",
   "mimetype": "text/x-python",
   "name": "python",
   "nbconvert_exporter": "python",
   "pygments_lexer": "ipython3",
   "version": "3.7.4"
  }
 },
 "nbformat": 4,
 "nbformat_minor": 2
}
